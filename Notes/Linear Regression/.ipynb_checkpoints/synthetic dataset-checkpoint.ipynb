{
 "cells": [
  {
   "cell_type": "code",
   "execution_count": 1,
   "id": "82eaf9d6-6150-41f9-9daf-1b674f1e2774",
   "metadata": {},
   "outputs": [
    {
     "name": "stdout",
     "output_type": "stream",
     "text": [
      "Collecting mglearn\n",
      "  Downloading mglearn-0.2.0-py2.py3-none-any.whl.metadata (628 bytes)\n",
      "Requirement already satisfied: numpy in c:\\users\\ishhaq\\anaconda\\lib\\site-packages (from mglearn) (1.26.4)\n",
      "Requirement already satisfied: matplotlib in c:\\users\\ishhaq\\anaconda\\lib\\site-packages (from mglearn) (3.9.2)\n",
      "Requirement already satisfied: scikit-learn in c:\\users\\ishhaq\\anaconda\\lib\\site-packages (from mglearn) (1.5.1)\n",
      "Requirement already satisfied: pandas in c:\\users\\ishhaq\\anaconda\\lib\\site-packages (from mglearn) (2.2.2)\n",
      "Requirement already satisfied: pillow in c:\\users\\ishhaq\\anaconda\\lib\\site-packages (from mglearn) (10.4.0)\n",
      "Requirement already satisfied: cycler in c:\\users\\ishhaq\\anaconda\\lib\\site-packages (from mglearn) (0.11.0)\n",
      "Requirement already satisfied: imageio in c:\\users\\ishhaq\\anaconda\\lib\\site-packages (from mglearn) (2.33.1)\n",
      "Requirement already satisfied: joblib in c:\\users\\ishhaq\\anaconda\\lib\\site-packages (from mglearn) (1.4.2)\n",
      "Requirement already satisfied: contourpy>=1.0.1 in c:\\users\\ishhaq\\anaconda\\lib\\site-packages (from matplotlib->mglearn) (1.2.0)\n",
      "Requirement already satisfied: fonttools>=4.22.0 in c:\\users\\ishhaq\\anaconda\\lib\\site-packages (from matplotlib->mglearn) (4.51.0)\n",
      "Requirement already satisfied: kiwisolver>=1.3.1 in c:\\users\\ishhaq\\anaconda\\lib\\site-packages (from matplotlib->mglearn) (1.4.4)\n",
      "Requirement already satisfied: packaging>=20.0 in c:\\users\\ishhaq\\anaconda\\lib\\site-packages (from matplotlib->mglearn) (24.1)\n",
      "Requirement already satisfied: pyparsing>=2.3.1 in c:\\users\\ishhaq\\anaconda\\lib\\site-packages (from matplotlib->mglearn) (3.1.2)\n",
      "Requirement already satisfied: python-dateutil>=2.7 in c:\\users\\ishhaq\\anaconda\\lib\\site-packages (from matplotlib->mglearn) (2.9.0.post0)\n",
      "Requirement already satisfied: pytz>=2020.1 in c:\\users\\ishhaq\\anaconda\\lib\\site-packages (from pandas->mglearn) (2024.1)\n",
      "Requirement already satisfied: tzdata>=2022.7 in c:\\users\\ishhaq\\anaconda\\lib\\site-packages (from pandas->mglearn) (2023.3)\n",
      "Requirement already satisfied: scipy>=1.6.0 in c:\\users\\ishhaq\\anaconda\\lib\\site-packages (from scikit-learn->mglearn) (1.13.1)\n",
      "Requirement already satisfied: threadpoolctl>=3.1.0 in c:\\users\\ishhaq\\anaconda\\lib\\site-packages (from scikit-learn->mglearn) (3.5.0)\n",
      "Requirement already satisfied: six>=1.5 in c:\\users\\ishhaq\\anaconda\\lib\\site-packages (from python-dateutil>=2.7->matplotlib->mglearn) (1.16.0)\n",
      "Downloading mglearn-0.2.0-py2.py3-none-any.whl (581 kB)\n",
      "   ---------------------------------------- 0.0/581.4 kB ? eta -:--:--\n",
      "   ---------------------------------------- 0.0/581.4 kB ? eta -:--:--\n",
      "   ---------------------------------------- 0.0/581.4 kB ? eta -:--:--\n",
      "   ------------------ --------------------- 262.1/581.4 kB ? eta -:--:--\n",
      "   ------------------ --------------------- 262.1/581.4 kB ? eta -:--:--\n",
      "   -------------------------------------- 581.4/581.4 kB 851.4 kB/s eta 0:00:00\n",
      "Installing collected packages: mglearn\n",
      "Successfully installed mglearn-0.2.0\n"
     ]
    }
   ],
   "source": [
    "!pip install mglearn"
   ]
  },
  {
   "cell_type": "code",
   "execution_count": 2,
   "id": "898b43d6-18f8-402b-b82c-7a12ea388af6",
   "metadata": {},
   "outputs": [],
   "source": [
    "import mglearn\n",
    "X,y = mglearn.datasets.make_wave(n_samples=60)"
   ]
  },
  {
   "cell_type": "code",
   "execution_count": 3,
   "id": "a8d325b6-b6ae-401c-b520-00fc62c41b88",
   "metadata": {},
   "outputs": [
    {
     "data": {
      "text/plain": [
       "(60, 1)"
      ]
     },
     "execution_count": 3,
     "metadata": {},
     "output_type": "execute_result"
    }
   ],
   "source": [
    "X.shape"
   ]
  },
  {
   "cell_type": "code",
   "execution_count": null,
   "id": "73173a80-248d-4fc2-9cca-e9f98f3cf096",
   "metadata": {},
   "outputs": [],
   "source": []
  }
 ],
 "metadata": {
  "kernelspec": {
   "display_name": "Python 3 (ipykernel)",
   "language": "python",
   "name": "python3"
  },
  "language_info": {
   "codemirror_mode": {
    "name": "ipython",
    "version": 3
   },
   "file_extension": ".py",
   "mimetype": "text/x-python",
   "name": "python",
   "nbconvert_exporter": "python",
   "pygments_lexer": "ipython3",
   "version": "3.12.7"
  }
 },
 "nbformat": 4,
 "nbformat_minor": 5
}
