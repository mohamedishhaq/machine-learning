{
 "cells": [
  {
   "cell_type": "code",
   "execution_count": 1,
   "id": "621bac46-b1d2-4846-a792-29a43fcf9766",
   "metadata": {},
   "outputs": [],
   "source": [
    "import pandas as pd"
   ]
  },
  {
   "cell_type": "code",
   "execution_count": 2,
   "id": "1fb105b8-b005-4610-ac3c-ee306f23bf35",
   "metadata": {},
   "outputs": [
    {
     "data": {
      "text/html": [
       "<div>\n",
       "<style scoped>\n",
       "    .dataframe tbody tr th:only-of-type {\n",
       "        vertical-align: middle;\n",
       "    }\n",
       "\n",
       "    .dataframe tbody tr th {\n",
       "        vertical-align: top;\n",
       "    }\n",
       "\n",
       "    .dataframe thead th {\n",
       "        text-align: right;\n",
       "    }\n",
       "</style>\n",
       "<table border=\"1\" class=\"dataframe\">\n",
       "  <thead>\n",
       "    <tr style=\"text-align: right;\">\n",
       "      <th></th>\n",
       "      <th>Rank</th>\n",
       "      <th>Release Date</th>\n",
       "      <th>Title</th>\n",
       "      <th>Production Budget</th>\n",
       "      <th>Domestic Gross</th>\n",
       "      <th>Worldwide Gross</th>\n",
       "    </tr>\n",
       "  </thead>\n",
       "  <tbody>\n",
       "    <tr>\n",
       "      <th>0</th>\n",
       "      <td>1</td>\n",
       "      <td>23-Apr-19</td>\n",
       "      <td>Avengers: Endgame</td>\n",
       "      <td>400,000,000</td>\n",
       "      <td>858,373,000</td>\n",
       "      <td>2,797,800,564</td>\n",
       "    </tr>\n",
       "    <tr>\n",
       "      <th>1</th>\n",
       "      <td>2</td>\n",
       "      <td>20-May-11</td>\n",
       "      <td>Pirates of the Caribbean: On Stranger Tides</td>\n",
       "      <td>379,000,000</td>\n",
       "      <td>241,071,802</td>\n",
       "      <td>1,045,713,802</td>\n",
       "    </tr>\n",
       "    <tr>\n",
       "      <th>2</th>\n",
       "      <td>3</td>\n",
       "      <td>22-Apr-15</td>\n",
       "      <td>Avengers: Age of Ultron</td>\n",
       "      <td>365,000,000</td>\n",
       "      <td>459,005,868</td>\n",
       "      <td>1,395,316,979</td>\n",
       "    </tr>\n",
       "    <tr>\n",
       "      <th>3</th>\n",
       "      <td>4</td>\n",
       "      <td>16-Dec-15</td>\n",
       "      <td>Star Wars Ep. VII: The Force Awakens</td>\n",
       "      <td>306,000,000</td>\n",
       "      <td>936,662,225</td>\n",
       "      <td>2,064,615,817</td>\n",
       "    </tr>\n",
       "    <tr>\n",
       "      <th>4</th>\n",
       "      <td>5</td>\n",
       "      <td>25-Apr-18</td>\n",
       "      <td>Avengers: Infinity War</td>\n",
       "      <td>300,000,000</td>\n",
       "      <td>678,815,482</td>\n",
       "      <td>2,044,540,523</td>\n",
       "    </tr>\n",
       "    <tr>\n",
       "      <th>...</th>\n",
       "      <td>...</td>\n",
       "      <td>...</td>\n",
       "      <td>...</td>\n",
       "      <td>...</td>\n",
       "      <td>...</td>\n",
       "      <td>...</td>\n",
       "    </tr>\n",
       "    <tr>\n",
       "      <th>6164</th>\n",
       "      <td>6165</td>\n",
       "      <td>Unknown</td>\n",
       "      <td>Red 11</td>\n",
       "      <td>7,000</td>\n",
       "      <td>0</td>\n",
       "      <td>0</td>\n",
       "    </tr>\n",
       "    <tr>\n",
       "      <th>6165</th>\n",
       "      <td>6166</td>\n",
       "      <td>02-Apr-99</td>\n",
       "      <td>Following</td>\n",
       "      <td>6,000</td>\n",
       "      <td>48,482</td>\n",
       "      <td>240,495</td>\n",
       "    </tr>\n",
       "    <tr>\n",
       "      <th>6166</th>\n",
       "      <td>6167</td>\n",
       "      <td>13-Jul-05</td>\n",
       "      <td>Return to the Land of Wonders</td>\n",
       "      <td>5,000</td>\n",
       "      <td>1,338</td>\n",
       "      <td>1,338</td>\n",
       "    </tr>\n",
       "    <tr>\n",
       "      <th>6167</th>\n",
       "      <td>6168</td>\n",
       "      <td>29-Sep-15</td>\n",
       "      <td>A Plague So Pleasant</td>\n",
       "      <td>1,400</td>\n",
       "      <td>0</td>\n",
       "      <td>0</td>\n",
       "    </tr>\n",
       "    <tr>\n",
       "      <th>6168</th>\n",
       "      <td>6169</td>\n",
       "      <td>05-Aug-05</td>\n",
       "      <td>My Date With Drew</td>\n",
       "      <td>1,100</td>\n",
       "      <td>181,041</td>\n",
       "      <td>181,041</td>\n",
       "    </tr>\n",
       "  </tbody>\n",
       "</table>\n",
       "<p>6169 rows × 6 columns</p>\n",
       "</div>"
      ],
      "text/plain": [
       "      Rank Release Date                                        Title  \\\n",
       "0        1    23-Apr-19                            Avengers: Endgame   \n",
       "1        2    20-May-11  Pirates of the Caribbean: On Stranger Tides   \n",
       "2        3    22-Apr-15                      Avengers: Age of Ultron   \n",
       "3        4    16-Dec-15         Star Wars Ep. VII: The Force Awakens   \n",
       "4        5    25-Apr-18                       Avengers: Infinity War   \n",
       "...    ...          ...                                          ...   \n",
       "6164  6165      Unknown                                       Red 11   \n",
       "6165  6166    02-Apr-99                                    Following   \n",
       "6166  6167    13-Jul-05                Return to the Land of Wonders   \n",
       "6167  6168    29-Sep-15                         A Plague So Pleasant   \n",
       "6168  6169    05-Aug-05                            My Date With Drew   \n",
       "\n",
       "     Production Budget Domestic Gross Worldwide Gross  \n",
       "0          400,000,000    858,373,000   2,797,800,564  \n",
       "1          379,000,000    241,071,802   1,045,713,802  \n",
       "2          365,000,000    459,005,868   1,395,316,979  \n",
       "3          306,000,000    936,662,225   2,064,615,817  \n",
       "4          300,000,000    678,815,482   2,044,540,523  \n",
       "...                ...            ...             ...  \n",
       "6164             7,000              0               0  \n",
       "6165             6,000         48,482         240,495  \n",
       "6166             5,000          1,338           1,338  \n",
       "6167             1,400              0               0  \n",
       "6168             1,100        181,041         181,041  \n",
       "\n",
       "[6169 rows x 6 columns]"
      ]
     },
     "execution_count": 2,
     "metadata": {},
     "output_type": "execute_result"
    }
   ],
   "source": [
    "# Data Loading\n",
    "data = pd.read_csv('./D1_Movie_Revenue_Dataset.csv')\n",
    "data"
   ]
  },
  {
   "cell_type": "code",
   "execution_count": 3,
   "id": "9c0b9264-f9d0-4c00-b38c-0e1cafe7eda7",
   "metadata": {},
   "outputs": [
    {
     "data": {
      "text/plain": [
       "pandas.core.frame.DataFrame"
      ]
     },
     "execution_count": 3,
     "metadata": {},
     "output_type": "execute_result"
    }
   ],
   "source": [
    "type(data)"
   ]
  },
  {
   "cell_type": "code",
   "execution_count": 4,
   "id": "4c78dfc0-d673-4fdc-96f6-7bd88fd7d7fd",
   "metadata": {},
   "outputs": [
    {
     "name": "stdout",
     "output_type": "stream",
     "text": [
      "<class 'pandas.core.frame.DataFrame'>\n",
      "RangeIndex: 6169 entries, 0 to 6168\n",
      "Data columns (total 6 columns):\n",
      " #   Column             Non-Null Count  Dtype \n",
      "---  ------             --------------  ----- \n",
      " 0   Rank               6169 non-null   int64 \n",
      " 1   Release Date       6169 non-null   object\n",
      " 2   Title              6169 non-null   object\n",
      " 3   Production Budget  6169 non-null   object\n",
      " 4   Domestic Gross     6169 non-null   object\n",
      " 5   Worldwide Gross    6169 non-null   object\n",
      "dtypes: int64(1), object(5)\n",
      "memory usage: 289.3+ KB\n"
     ]
    }
   ],
   "source": [
    "data.info()"
   ]
  },
  {
   "cell_type": "code",
   "execution_count": null,
   "id": "528ad14d-84ed-416e-a930-f2550c631738",
   "metadata": {},
   "outputs": [],
   "source": []
  }
 ],
 "metadata": {
  "kernelspec": {
   "display_name": "Python 3 (ipykernel)",
   "language": "python",
   "name": "python3"
  },
  "language_info": {
   "codemirror_mode": {
    "name": "ipython",
    "version": 3
   },
   "file_extension": ".py",
   "mimetype": "text/x-python",
   "name": "python",
   "nbconvert_exporter": "python",
   "pygments_lexer": "ipython3",
   "version": "3.12.7"
  }
 },
 "nbformat": 4,
 "nbformat_minor": 5
}
